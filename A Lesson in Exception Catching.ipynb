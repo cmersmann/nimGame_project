{
 "cells": [
  {
   "cell_type": "markdown",
   "id": "3cdb0b5c",
   "metadata": {},
   "source": [
    "This notebook runs through a few things that should be helpful for the nim project!\n",
    "\n",
    "One thing we definitely need is the ability to ask for user input. Let's look at an example below, and learn how to catch and deal with bad user responses. "
   ]
  },
  {
   "cell_type": "code",
   "execution_count": 12,
   "id": "aa0cc514",
   "metadata": {},
   "outputs": [],
   "source": [
    "def age_query():\n",
    "    age=input(\"How old are you?\")\n",
    "    \n",
    "age_query()"
   ]
  },
  {
   "cell_type": "markdown",
   "id": "f12c9764",
   "metadata": {},
   "source": [
    "You can add a \"/n\" to accept the user input on a different line; this is just visually more appealing in some cases (like maybe in your Nim game). "
   ]
  },
  {
   "cell_type": "code",
   "execution_count": 4,
   "id": "fd8d24c2",
   "metadata": {},
   "outputs": [],
   "source": [
    "def age_query():\n",
    "    age=input(\"How old are you?\\n\")\n",
    "    \n",
    "age_query()"
   ]
  },
  {
   "cell_type": "markdown",
   "id": "338106f7",
   "metadata": {},
   "source": [
    "Let's assume we only want our code to accept nonnegative integer numbers. How can we implement that restriction in python? "
   ]
  },
  {
   "cell_type": "markdown",
   "id": "14897d0b",
   "metadata": {},
   "source": [
    "One attempt is to use (nested) if statements and recursion. Try the code below with various user inputs...(16, 'sixteen', etc). "
   ]
  },
  {
   "cell_type": "code",
   "execution_count": null,
   "id": "7fa636fc",
   "metadata": {},
   "outputs": [],
   "source": [
    "def age_query():\n",
    "    age=input(\"How old are you?\\n\")\n",
    "    if not isinstance(age, int):\n",
    "        print(\"nope\")\n",
    "    else:\n",
    "        print(\"Your age is\",age,\".\")\n",
    "        \n",
    "age_query()"
   ]
  },
  {
   "cell_type": "markdown",
   "id": "49d00be9",
   "metadata": {},
   "source": [
    "The behavior of the code above is understandable; no matter what characters you enter, Python interprets user inputs as strings. You *can* try to convert the input to an integer before type testing, but if the user enters a string, the program will simply terminate with a `Value Error`. Investigate that behavior below. The program will run if the user actually does input an integer, but it crashes out with any other non-numerical input."
   ]
  },
  {
   "cell_type": "code",
   "execution_count": null,
   "id": "d0de2708",
   "metadata": {},
   "outputs": [],
   "source": [
    "def age_query():\n",
    "    age=input(\"How old are you?\\n\")\n",
    "    age=int(age)\n",
    "    if not isinstance(age, int):\n",
    "        print(\"nope\")\n",
    "    else:\n",
    "        print(\"Your age is\",age,\".\")\n",
    "        \n",
    "age_query()"
   ]
  },
  {
   "cell_type": "markdown",
   "id": "9cea1b22",
   "metadata": {},
   "source": [
    "Luckily for us, Python has a built in way for us to deal with these errors. This is called \"catching exceptions,\" and  it's done fairly simply by using `try...except` statements. (These statements have optional `else` and `finally` clauses, as well.) Investigate the code below with various user responses. "
   ]
  },
  {
   "cell_type": "code",
   "execution_count": 2,
   "id": "67b7c04a",
   "metadata": {},
   "outputs": [
    {
     "name": "stdout",
     "output_type": "stream",
     "text": [
      "How old are you?\n",
      "1y\n",
      "Could not convert data to an integer.\n",
      "Please enter an integer value!\n",
      "How old are you?\n",
      "17\n",
      "Your age is 17 .\n"
     ]
    },
    {
     "data": {
      "text/plain": [
       "17"
      ]
     },
     "execution_count": 2,
     "metadata": {},
     "output_type": "execute_result"
    }
   ],
   "source": [
    "def age_query():\n",
    "    age=input(\"How old are you?\\n\")\n",
    "    try:\n",
    "        age=int(age)\n",
    "    except ValueError:\n",
    "        print(\"Could not convert data to an integer.\\nPlease enter an integer value!\")\n",
    "        age=age_query()\n",
    "    else:\n",
    "        print(\"Your age is\",age,\".\")\n",
    "    return age\n",
    "\n",
    "age_query()"
   ]
  },
  {
   "cell_type": "markdown",
   "id": "7d92655f",
   "metadata": {},
   "source": [
    "It's very common to need to restart your kernel when you're troubleshooting this kind of code. Don't forget that it's an option!"
   ]
  },
  {
   "cell_type": "code",
   "execution_count": null,
   "id": "1ae92679",
   "metadata": {},
   "outputs": [],
   "source": []
  }
 ],
 "metadata": {
  "kernelspec": {
   "display_name": "Python 3 (ipykernel)",
   "language": "python",
   "name": "python3"
  },
  "language_info": {
   "codemirror_mode": {
    "name": "ipython",
    "version": 3
   },
   "file_extension": ".py",
   "mimetype": "text/x-python",
   "name": "python",
   "nbconvert_exporter": "python",
   "pygments_lexer": "ipython3",
   "version": "3.8.9"
  }
 },
 "nbformat": 4,
 "nbformat_minor": 5
}
