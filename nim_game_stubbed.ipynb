{
 "cells": [
  {
   "cell_type": "markdown",
   "id": "d2a19ab2",
   "metadata": {},
   "source": [
    "The rules of the game nim we're programming:\n",
    "1) Decide how many piles you want to play with (I suggest you keep it between 1-10, at least at the beginning)\n",
    "\n",
    "2) Decide how many \"stones\" you want in each pile (again, I suggest 1-10)\n",
    "\n",
    "3) Decide if you or the computer goes first\n",
    "\n",
    "4) On a player's turn, that player can remove 1, 2, ..., or n stones from a single pile, where n is the total number of stones in each pile. For clarity, each player must remove at least one stone each turn, and from only one pile at a time\n",
    "\n",
    "5) The player which removes the last stone wins. \n",
    "\n"
   ]
  },
  {
   "cell_type": "markdown",
   "id": "20cc74dc",
   "metadata": {},
   "source": [
    "You're free to program the game however you see fit, but I suggest organinzing the \"piles of stones\" by using a Python list object. \n",
    "\n",
    "For example, if we decide to play Nim with a starting configuation of 3 piles, with 3, 5, and 7 stones respectively, we could say \n",
    "\n",
    "pile_list=[3,5,7]. \n",
    "\n",
    "If player 1 removes 2 stones from pile 2, we could update the \"game board\" by \n",
    "\n",
    "pile_list[1]=pile_list[1]-2\n",
    "\n",
    "Then print(pile_list) would print out [3,3,7]"
   ]
  },
  {
   "cell_type": "markdown",
   "id": "8f05da6d",
   "metadata": {},
   "source": [
    "The basic setup of our game code will be as follows: \n",
    "\n",
    "1) The game setup: accept user input\n",
    "\n",
    "2) The game board: print the stones in each pile (for loop)\n",
    "\n",
    "3) User turn: ask for user input; how many stones should be removed and from which pile?\n",
    "\n",
    "4) Computer turn: for right now, program the computer to make a random legal move. \n",
    "\n",
    "4 bonus) If you finish the project early, you can reprogram the computer to play more intelligently. Email me if you want some tips!\n",
    "\n",
    "5) After each player's turn, you should check to see if the game is actually over! When it is, congratulate the winner, and ask the user if they want to play again!\n",
    "\n",
    "\n"
   ]
  },
  {
   "cell_type": "code",
   "execution_count": 11,
   "id": "f0208f7e",
   "metadata": {},
   "outputs": [],
   "source": [
    "j=1\n",
    "i=1\n"
   ]
  },
  {
   "cell_type": "code",
   "execution_count": 2,
   "id": "3ed7126a",
   "metadata": {
    "tags": [
     "hide-input"
    ]
   },
   "outputs": [],
   "source": [
    "def setup():\n",
    "    #This function should call the setup subfunctions\n",
    "    #num_piles=select_pile_num() (this is the user selected number of piles)\n",
    "    #p_i=select_stones_loop() (this is the user selected number of stones in each pile)\n",
    "    #\n",
    "    #and should return a list object p_list where\n",
    "    #len(p_list)=num_piles, and\n",
    "    #p_list[i]=p_i\n",
    "    \n",
    "    num_piles=select_number_piles()\n",
    "    p_list=select_stones_loop(num_piles)\n",
    "    \n",
    "    return p_list"
   ]
  },
  {
   "cell_type": "code",
   "execution_count": 1,
   "id": "872ab51a",
   "metadata": {
    "tags": [
     "hide-input"
    ]
   },
   "outputs": [],
   "source": [
    "def select_number_piles():\n",
    "    #This function should ask the user to select a number of\n",
    "    #piles between 1 and 10 (or more, if you want)\n",
    "    #your code should catch exceptions, including\n",
    "    #numbers outside requested range and strings\n",
    "    return p\n"
   ]
  },
  {
   "cell_type": "code",
   "execution_count": 3,
   "id": "763f7a08",
   "metadata": {},
   "outputs": [],
   "source": [
    "def select_stones_loop(p):\n",
    "    #this function should call select_stones(i)\n",
    "    #for each pile, and build pile_list, where \n",
    "    #pile_list[i]=select_stones(i)\n",
    "    return pile_list\n",
    "    \n",
    "        \n",
    "    "
   ]
  },
  {
   "cell_type": "code",
   "execution_count": 4,
   "id": "4ef0ee3a",
   "metadata": {},
   "outputs": [],
   "source": [
    "def select_stones(i):\n",
    "    #prompt user to select the number of stones in pile i\n",
    "    #your code should catch exceptions, including\n",
    "    #numbers outside requested range and strings\n",
    "        \n",
    "    return s"
   ]
  },
  {
   "cell_type": "code",
   "execution_count": null,
   "id": "377faaa8",
   "metadata": {},
   "outputs": [],
   "source": [
    "def display_board(pile_list):\n",
    "    # this function should display the game board! \n",
    "    # I recommend you print one pile per line, and print\n",
    "    # the updated gameboard after each player's turn\n",
    "\n",
    "def line_display(j,i):\n",
    "    # this should print the i stones in pile j\n",
    "    # At first you might just want to get your code working, \n",
    "    # but eventually you should try to make the stone piles\n",
    "    # appear organized and visually appealing(centered, ideally)\n",
    "        "
   ]
  },
  {
   "cell_type": "code",
   "execution_count": 6,
   "id": "3b6305f3",
   "metadata": {},
   "outputs": [],
   "source": [
    "def first_turn():\n",
    "    #take input user on who goes first\n",
    "    #suggestion: have the user input a number to indicate \n",
    "    #if player or computer goes first; then catch exceptions \n",
    "    #the same way we did in select_number_piles() \n",
    "    #and select_stones_loop()\n",
    "    return ft    \n"
   ]
  },
  {
   "cell_type": "code",
   "execution_count": 7,
   "id": "655a7fa6",
   "metadata": {},
   "outputs": [],
   "source": [
    "#This block of code defines a user turn. \n",
    "#We'll ask the human player how many stones to remove, \n",
    "#and from what pile (You might figure out that there's a best\n",
    "#order to do this in, especially with exception catching in mind)\n",
    "\n",
    "def choose_pile(pile_list):\n",
    "    # This function should ask user which pile they would like\n",
    "    # to remove stones from. You should again apply exception catching;\n",
    "    # users shouldn't be able to chose a pile that doesn't exist, \n",
    "    # or a pile which has no stones in it\n",
    "    \n",
    "    #pile_no is the user chosen pile number; stones will be removed \n",
    "    # from this pile\n",
    "    return(pile_no)\n",
    "\n",
    "def choose_stones(n):\n",
    "    # This function accepts n, the number of stones in the user-chosen \n",
    "    # pile as an argument\n",
    "    # It then prompts the user to select a number of stones to remove\n",
    "    # You should do exception catching to ensure that the user \n",
    "    # chooses a number between 1 and n\n",
    "    \n",
    "    # stone_no is the number of stones to be removed from the given pile\n",
    "    return(stone_no)\n",
    "\n",
    "\n",
    "\n",
    "def user_turn(s_list):\n",
    "    # this function is the \"wrapper\" for the human player turn\n",
    "    # ask the user for input about how many stones to remove\n",
    "    # and from which pile;\n",
    "    # then update the game board and return an updated pile_list\n",
    "    return pile_list\n",
    "        "
   ]
  },
  {
   "cell_type": "code",
   "execution_count": 8,
   "id": "cac4525f",
   "metadata": {},
   "outputs": [],
   "source": [
    "def computer_turn(pile_list):\n",
    "    # This function should randomly select a pile that has 1 or more\n",
    "    # stones. If that pile has n stones, then the computer should randomly\n",
    "    # select a random integer between 1 and n, and remove that many stones\n",
    "    \n",
    "    #you may want to use the randint() function from the random module\n",
    "    \n",
    "    #update pile_list, and then return the new list\n",
    "    \n",
    "    return pile_list"
   ]
  },
  {
   "cell_type": "code",
   "execution_count": null,
   "id": "3b846a8f",
   "metadata": {},
   "outputs": [],
   "source": [
    "def win_check(player_id,pile_list):\n",
    "    #This function should check to see if a player has won!\n",
    "    #It's easiest to check after each player turn\n",
    "    #You can determine the user and the computer id; if the user wins\n",
    "    # you should print out a congratulations message\n",
    "    # if the computer wins, you should be more conciliatory\n",
    "    \n",
    "    \n",
    "    \n",
    "def player_turn(player_id,pile_list):\n",
    "    #This is how I implemented the player turns\n",
    "    #You're welcome to do something different, but I suggest making\n",
    "    #the user/player id 1, and the computer id 2, for example. \n",
    "    if player_id==1:\n",
    "        pile_list=user_turn(pile_list)\n",
    "    else:\n",
    "        pile_list=computer_turn(pile_list)\n",
    "    return pile_list    \n"
   ]
  },
  {
   "cell_type": "code",
   "execution_count": 10,
   "id": "1d3d6770",
   "metadata": {},
   "outputs": [],
   "source": [
    "#this is the game wrapper...it's going to call the subfunctions\n",
    "#we defined above, and actually play the game!\n",
    "\n",
    "def play_nim():\n",
    "    win_cond=0\n",
    "    pile_list=setup()\n",
    "    a=first_turn()\n",
    "    # Then you have to figure out how to rotate between user and computer turn\n",
    "    # The game should continue as long as no one has won (obvs)\n",
    "    \n",
    "    #Hope y'all have fun with this project! \n",
    "    \n",
    "    #Do your best on Monday to get started, and then email me (after class)\n",
    "    #if you're stuck"
   ]
  }
 ],
 "metadata": {
  "celltoolbar": "Edit Metadata",
  "kernelspec": {
   "display_name": "Python 3 (ipykernel)",
   "language": "python",
   "name": "python3"
  },
  "language_info": {
   "codemirror_mode": {
    "name": "ipython",
    "version": 3
   },
   "file_extension": ".py",
   "mimetype": "text/x-python",
   "name": "python",
   "nbconvert_exporter": "python",
   "pygments_lexer": "ipython3",
   "version": "3.8.9"
  }
 },
 "nbformat": 4,
 "nbformat_minor": 5
}
